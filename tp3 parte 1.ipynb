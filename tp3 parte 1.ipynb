{
 "cells": [
  {
   "cell_type": "code",
   "execution_count": 2,
   "id": "ae8710c9",
   "metadata": {},
   "outputs": [
    {
     "name": "stdout",
     "output_type": "stream",
     "text": [
      "Es el primer bloque del proyecto\n",
      "hola, este es Es el segundo bloque del proyecto\n"
     ]
    }
   ],
   "source": [
    "print('Es el primer bloque del proyecto')\n",
    "variable = 'hola, este es'\n",
    "\n",
    "print(variable, 'Es el segundo bloque del proyecto')"
   ]
  },
  {
   "cell_type": "markdown",
   "id": "6b833b9f",
   "metadata": {},
   "source": [
    "# Universidad Autónoma de Entre Ríos\n",
    "## Facultad de Ciencia y Tecnología\n",
    "### Sede Concepción del Uruguay\n",
    "Licenciatura en Sistema de Información:\n",
    "- Primer año\n",
    "- Segundo año\n",
    "- **Tercer** año\n",
    "- Cuarto año\n",
    "- Quinto año\n"
   ]
  },
  {
   "cell_type": "markdown",
   "id": "8e4e7ab1",
   "metadata": {},
   "source": [
    "![Imagen](data:image/png;base64,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)"
   ]
  },
  {
   "attachments": {
    "logo.jpg": {
     "image/jpeg": "[encoded data removed]"
    }
   },
   "cell_type": "markdown",
   "id": "62111f81",
   "metadata": {},
   "source": [
    "![logo.jpg](attachment:logo.jpg)"
   ]
  },
  {
   "cell_type": "markdown",
   "id": "e8b8bd84",
   "metadata": {},
   "source": [
    "4) Sí, pude agregar una variable en la primer celda y utilizarla en la segunda. Tuve que ejecutar la primer celda primero y luego la segunda\n",
    "6) restart: rinicia el nucleo actual\n",
    "   restart & clear: reinicia el nucleo actual y borra todos los resultados.\n",
    "   interrump: interrumpe la ejecucion\n",
    "7) in[numero] indica que numero de celda es.\n",
    "10) copio y pego la imagen en la celda markdown\n",
    "11) el orden de las celdas la puedo cambiar de la flechita en la bara de tareas. Puedo combinar las celdas con el comando merge cell\n"
   ]
  },
  {
   "cell_type": "markdown",
   "id": "ec7c6869",
   "metadata": {},
   "source": []
  }
 ],
 "metadata": {
  "kernelspec": {
   "display_name": "Python 3 (ipykernel)",
   "language": "python",
   "name": "python3"
  },
  "language_info": {
   "codemirror_mode": {
    "name": "ipython",
    "version": 3
   },
   "file_extension": ".py",
   "mimetype": "text/x-python",
   "name": "python",
   "nbconvert_exporter": "python",
   "pygments_lexer": "ipython3",
   "version": "3.10.4"
  }
 },
 "nbformat": 4,
 "nbformat_minor": 5
}
